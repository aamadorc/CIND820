{
  "cells": [
    {
      "attachments": {},
      "cell_type": "markdown",
      "metadata": {
        "collapsed": false,
        "id": "TX_-QfCapg5r"
      },
      "source": [
        "# CIND820 - Exploration Data Analysis  \n",
        "\n"
      ]
    },
    {
      "attachments": {},
      "cell_type": "markdown",
      "metadata": {
        "id": "KPUF4R_NlrMT"
      },
      "source": [
        "I aim to predict the efficiency of COVID-19 vaccinates around the world using Data Classification and Clustering to analyze the efficiency of COVID-19 vaccines over the population infected and deaths reported.\n",
        "\n",
        "First, I will explore the dataset to get insides and better understand patterns, detect error and outliers, and find relationships between variables. Then, identify key factors to determine the efficiency of COVID-19 vaccine in relation to the number of cases and deaths.\n"
      ]
    },
    {
      "attachments": {},
      "cell_type": "markdown",
      "metadata": {
        "id": "s2h0BVIqmIpE"
      },
      "source": [
        "## Preparation\n",
        "Describing the working dataset and any imposed constraints\n",
        "\n",
        "This dataset is taken from Our World in Data website, officially collected by Our World in Data team. This dataset will be synced daily. For more info:\n",
        "https://www.kaggle.com/datasets/caesarmario/our-world-in-data-covid19-dataset\n",
        "\n",
        "Import the following files:\n",
        "This dataset is taken from Our World in Data website, officially collected by Our World in Data team. This dataset will be synced daily:\n",
        "\n",
        "https://covid.ourworldindata.org/data/owid-covid-data.csv"
      ]
    },
    {
      "cell_type": "code",
      "execution_count": null,
      "metadata": {},
      "outputs": [],
      "source": [
        "# Import libraries\n",
        "import pandas as pd\n",
        "from ydata_profiling import ProfileReport\n",
        "\n",
        "import numpy as np"
      ]
    },
    {
      "cell_type": "markdown",
      "metadata": {},
      "source": [
        "# Load file and explore data\n",
        "\n",
        "The dataset, provided by Our World in Data, provides COVID-19 vaccination information collected by Our World in Data available to Kaggle community https://www.kaggle.com/datasets/caesarmario/our-world-in-data-covid19-dataset/download?datasetVersionNumber=418. This dataset is updated daily, for the purpose of this study I am analyzing the data with information up to Oct 7th, 2023."
      ]
    },
    {
      "cell_type": "code",
      "execution_count": null,
      "metadata": {},
      "outputs": [],
      "source": [
        "# Load file\n",
        "covid_data = pd.read_csv('archive.zip', sep=',')  \n",
        "\n",
        "covid_data = covid_data[[\"continent\",\n",
        "\"location\",\n",
        "\"date\",\n",
        "\"total_cases\",\n",
        "\"new_cases\",\n",
        "\"total_deaths\",\n",
        "\"new_deaths\",\n",
        "\"icu_patients\",\n",
        "\"hosp_patients\",\n",
        "\"total_tests\",\n",
        "\"new_tests\",\n",
        "\"positive_rate\",\n",
        "\"tests_per_case\",\n",
        "\"tests_units\",\n",
        "\"total_vaccinations\",\n",
        "\"people_vaccinated\",\n",
        "\"people_fully_vaccinated\",\n",
        "\"total_boosters\",\n",
        "\"new_vaccinations\",\n",
        "\"median_age\",\n",
        "\"aged_65_older\",\n",
        "\"aged_70_older\",\n",
        "\"extreme_poverty\",\n",
        "\"cardiovasc_death_rate\",\n",
        "\"diabetes_prevalence\",\n",
        "\"female_smokers\",\n",
        "\"male_smokers\",\n",
        "\"handwashing_facilities\",\n",
        "\"population\"]]\n",
        "\n",
        "#Explore data\n",
        "covid_data"
      ]
    },
    {
      "cell_type": "markdown",
      "metadata": {},
      "source": [
        "# Check the data types and metadata of the attributes"
      ]
    },
    {
      "cell_type": "code",
      "execution_count": null,
      "metadata": {},
      "outputs": [],
      "source": [
        "covid_data.dtypes"
      ]
    },
    {
      "cell_type": "code",
      "execution_count": null,
      "metadata": {},
      "outputs": [],
      "source": [
        "# look at meta information about data, such as null values\n",
        "covid_data.info()"
      ]
    },
    {
      "cell_type": "code",
      "execution_count": null,
      "metadata": {},
      "outputs": [],
      "source": [
        "# Let's see meta information about numeric data, we can also see if there any extreme values\n",
        "covid_data.describe()"
      ]
    },
    {
      "cell_type": "code",
      "execution_count": null,
      "metadata": {},
      "outputs": [],
      "source": [
        "# Genetate profiling report\n",
        "#profile = ProfileReport(covid_data, title=\"Profiling Report\")\n",
        "profile = ProfileReport(covid_data, title=\"Profiling Report Subset\", html={'style':{'fullwith':True}})\n"
      ]
    },
    {
      "cell_type": "code",
      "execution_count": null,
      "metadata": {},
      "outputs": [],
      "source": [
        "profile"
      ]
    }
  ],
  "metadata": {
    "colab": {
      "collapsed_sections": [],
      "provenance": []
    },
    "kernelspec": {
      "display_name": "Python 3",
      "language": "python",
      "name": "python3"
    },
    "language_info": {
      "codemirror_mode": {
        "name": "ipython",
        "version": 3
      },
      "file_extension": ".py",
      "mimetype": "text/x-python",
      "name": "python",
      "nbconvert_exporter": "python",
      "pygments_lexer": "ipython3",
      "version": "3.9.7"
    }
  },
  "nbformat": 4,
  "nbformat_minor": 0
}
